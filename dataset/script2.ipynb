{
 "cells": [
  {
   "cell_type": "code",
   "execution_count": 17,
   "id": "33a5da7d",
   "metadata": {},
   "outputs": [],
   "source": [
    "import pandas as pd"
   ]
  },
  {
   "cell_type": "code",
   "execution_count": 18,
   "id": "4e776ef2",
   "metadata": {},
   "outputs": [],
   "source": [
    "archivo_csv = \"iris.csv\"\n",
    "datos = pd.read_csv(archivo_csv, encoding='utf-8', header=0)\n"
   ]
  },
  {
   "cell_type": "code",
   "execution_count": 22,
   "id": "5227fe82",
   "metadata": {},
   "outputs": [
    {
     "name": "stdout",
     "output_type": "stream",
     "text": [
      "Regresión Logística: Accuracy = 1.0000\n",
      "Árbol de Decisión: Accuracy = 1.0000\n",
      "Random Forest: Accuracy = 1.0000\n",
      "Naive Bayes: Accuracy = 1.0000\n",
      "SVM: Accuracy = 1.0000\n",
      "K Vecinos Más Cercanos: Accuracy = 1.0000\n",
      "\n"
     ]
    }
   ],
   "source": [
    "import pandas as pd\n",
    "from sklearn.model_selection import train_test_split\n",
    "from sklearn.metrics import accuracy_score\n",
    "from sklearn.linear_model import LogisticRegression\n",
    "from sklearn.tree import DecisionTreeClassifier\n",
    "from sklearn.ensemble import RandomForestClassifier\n",
    "from sklearn.naive_bayes import GaussianNB\n",
    "from sklearn.svm import SVC\n",
    "from sklearn.neighbors import KNeighborsClassifier\n",
    "\n",
    "# Supongamos que tienes un DataFrame 'datos'\n",
    "# datos = pd.read_csv(\"ruta/al/archivo.csv\")\n",
    "\n",
    "# Dividir los datos en conjuntos de entrenamiento y prueba\n",
    "X = datos.iloc[:, :-1]  # Características sin la última columna\n",
    "y = datos.iloc[:, -1]   # Variable objetivo (última columna)\n",
    "X_train, X_test, y_train, y_test = train_test_split(X, y, test_size=0.2, random_state=42)\n",
    "\n",
    "# Definir modelos a evaluar\n",
    "modelos = {\n",
    "    \"Regresión Logística\": LogisticRegression(),\n",
    "    \"Árbol de Decisión\": DecisionTreeClassifier(),\n",
    "    \"Random Forest\": RandomForestClassifier(),\n",
    "    \"Naive Bayes\": GaussianNB(),\n",
    "    \"SVM\": SVC(),\n",
    "    \"K Vecinos Más Cercanos\": KNeighborsClassifier()\n",
    "}\n",
    "\n",
    "# Entrenar y evaluar los modelos\n",
    "resultados = {}\n",
    "resultado_print='';\n",
    "\n",
    "for nombre_modelo, modelo in modelos.items():\n",
    "    modelo.fit(X_train, y_train)\n",
    "    y_pred = modelo.predict(X_test)\n",
    "    accuracy = accuracy_score(y_test, y_pred)\n",
    "    resultados[nombre_modelo] = accuracy\n",
    "\n",
    "# Imprimir los resultados\n",
    "for nombre_modelo, accuracy in resultados.items():\n",
    "    resultado_print +=f\"{nombre_modelo}: Accuracy = {accuracy:.4f}\"\n",
    "    resultado_print+= '\\n'\n",
    "print(resultado_print)\n"
   ]
  },
  {
   "cell_type": "code",
   "execution_count": 23,
   "id": "6ea21448",
   "metadata": {},
   "outputs": [],
   "source": [
    "# Crear y escribir el archivo de texto\n",
    "archivo_resultados = \"resultados.txt\"\n",
    "with open(archivo_resultados, \"w\") as archivo:\n",
    "    archivo.write(resultado_print)"
   ]
  },
  {
   "cell_type": "code",
   "execution_count": 24,
   "id": "46856911",
   "metadata": {},
   "outputs": [],
   "source": [
    "# Especifica el nombre del archivo Excel de salida\n",
    "archivo_excel = \"iris.xlsx\"\n",
    "\n",
    "# Guardar el DataFrame en un archivo Excel\n",
    "datos.to_excel(archivo_excel, index=False)  # index=False para no guardar los índices del DataFrame como una columna en Excel"
   ]
  },
  {
   "cell_type": "code",
   "execution_count": 29,
   "id": "6a510806",
   "metadata": {},
   "outputs": [
    {
     "name": "stdout",
     "output_type": "stream",
     "text": [
      "Conjunto de datos con clustering creado y guardado en 'conjunto_datos_con_clustering.xlsx'.\n"
     ]
    }
   ],
   "source": [
    "import pandas as pd\n",
    "import numpy as np\n",
    "\n",
    "# Crear un DataFrame con columnas numéricas: Altura, Peso, Edad, IMC, y Clustering\n",
    "num_muestras = 10000\n",
    "\n",
    "altura = np.random.randint(150, 200, num_muestras)\n",
    "peso = np.random.randint(50, 100, num_muestras)\n",
    "edad = np.random.randint(18, 65, num_muestras)\n",
    "imc = peso / (altura / 100) ** 2\n",
    "\n",
    "data = {\n",
    "    'Altura': altura,\n",
    "    'Peso': peso,\n",
    "    'Edad': edad,\n",
    "    'IMC': imc\n",
    "}\n",
    "\n",
    "df = pd.DataFrame(data)\n",
    "\n",
    "# Agregar una columna de clustering ficticia (por ejemplo, 0 o 1)\n",
    "clustering = np.random.choice([0, 1], num_muestras)\n",
    "df['Clustering'] = clustering\n",
    "\n",
    "# Guardar el DataFrame en un archivo Excel\n",
    "archivo_excel = \"people.xlsx\"\n",
    "df.to_excel(archivo_excel, index=False)\n",
    "\n",
    "print(\"Conjunto de datos con clustering creado y guardado en 'conjunto_datos_con_clustering.xlsx'.\")\n"
   ]
  },
  {
   "cell_type": "code",
   "execution_count": null,
   "id": "b265f4be",
   "metadata": {},
   "outputs": [],
   "source": []
  }
 ],
 "metadata": {
  "kernelspec": {
   "display_name": "Python 3 (ipykernel)",
   "language": "python",
   "name": "python3"
  },
  "language_info": {
   "codemirror_mode": {
    "name": "ipython",
    "version": 3
   },
   "file_extension": ".py",
   "mimetype": "text/x-python",
   "name": "python",
   "nbconvert_exporter": "python",
   "pygments_lexer": "ipython3",
   "version": "3.11.3"
  }
 },
 "nbformat": 4,
 "nbformat_minor": 5
}
