{
 "cells": [
  {
   "cell_type": "code",
   "execution_count": null,
   "id": "4e776ef2",
   "metadata": {},
   "outputs": [],
   "source": [
    "archivo_csv = \"iris.csv\"\n",
    "datos = pd.read_csv(archivo_csv, sep=';', encoding='utf-8', header=0)\n"
   ]
  }
 ],
 "metadata": {
  "kernelspec": {
   "display_name": "Python 3 (ipykernel)",
   "language": "python",
   "name": "python3"
  },
  "language_info": {
   "codemirror_mode": {
    "name": "ipython",
    "version": 3
   },
   "file_extension": ".py",
   "mimetype": "text/x-python",
   "name": "python",
   "nbconvert_exporter": "python",
   "pygments_lexer": "ipython3",
   "version": "3.11.3"
  }
 },
 "nbformat": 4,
 "nbformat_minor": 5
}
